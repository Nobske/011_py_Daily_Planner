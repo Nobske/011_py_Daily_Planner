{
 "cells": [
  {
   "cell_type": "markdown",
   "metadata": {},
   "source": [
    "# How to develop a simple day planner\n",
    "<font color='blue'>A. TAKES A USERNAME AND PASSWORD FROM A USER, GRANT OR DENY ACCESS </font>\n",
    "\n",
    "<font color='blue'>B. ONCE ACCESS IS GRANTED, THE SYSTEM REQUESTS TO GET THE TIME OF THE DAY FROM A USER </font> \n",
    "\n",
    "<font color='blue'>C. COMPARE THE TIME WITH THE DAY PLANNER FUNCTION </font> \n",
    "\n",
    "<font color='blue'>D. THE PROGRAM THEN PROVIDES THE STUDENT WITH PREVIOUS LECTURE NOTES, THE NOTES ARE CONTAINED IN THE PROVIDED FILE NAMED \"LECTURE NOTES.TXT\""
   ]
  },
  {
   "cell_type": "markdown",
   "metadata": {},
   "source": [
    "# Part A:"
   ]
  },
  {
   "cell_type": "markdown",
   "metadata": {},
   "source": [
    "# Database with Username and Password"
   ]
  },
  {
   "cell_type": "code",
   "execution_count": 59,
   "metadata": {},
   "outputs": [],
   "source": [
    "username = \"ryan\"\n",
    "password = \"hallo\""
   ]
  },
  {
   "cell_type": "markdown",
   "metadata": {},
   "source": [
    "# Ask for Username and Password"
   ]
  },
  {
   "cell_type": "code",
   "execution_count": 24,
   "metadata": {},
   "outputs": [
    {
     "name": "stdout",
     "output_type": "stream",
     "text": [
      "Please tell me your username: 434\n",
      "Please tell me your password: 34\n"
     ]
    }
   ],
   "source": [
    "input_username = input(\"Please tell me your username: \")\n",
    "input_password = input(\"Please tell me your password: \")"
   ]
  },
  {
   "cell_type": "markdown",
   "metadata": {},
   "source": [
    "# Matching Input & Database"
   ]
  },
  {
   "cell_type": "code",
   "execution_count": 21,
   "metadata": {},
   "outputs": [],
   "source": [
    "def matching():\n",
    "    if username == input_username and  password == input_password:\n",
    "        print(\"Access granted\")\n",
    "    \n",
    "    else: \n",
    "        print(\"Access denied, Username or PW were wrong\")"
   ]
  },
  {
   "cell_type": "markdown",
   "metadata": {},
   "source": [
    "# Using getpass that you cannot see the password"
   ]
  },
  {
   "cell_type": "code",
   "execution_count": 17,
   "metadata": {},
   "outputs": [],
   "source": [
    "import getpass"
   ]
  },
  {
   "cell_type": "code",
   "execution_count": 85,
   "metadata": {},
   "outputs": [],
   "source": [
    "def asking():\n",
    "    input_username = str.lower(input(\"Please tell me your username: \"))\n",
    "    input_password = getpass.getpass(\"Please tell me your password: \")\n",
    "    matching(input_username, input_password)\n",
    "   "
   ]
  },
  {
   "cell_type": "markdown",
   "metadata": {},
   "source": [
    "# Part B:"
   ]
  },
  {
   "cell_type": "markdown",
   "metadata": {},
   "source": [
    "# Request for the time"
   ]
  },
  {
   "cell_type": "code",
   "execution_count": 32,
   "metadata": {},
   "outputs": [],
   "source": [
    "def matching():\n",
    "    if username == input_username and  password == input_password:\n",
    "        print(\"Access granted\")\n",
    "        \n",
    "        time_h_now = float(input(\"What is the time? Please insert from [8:00 to 15:00]\"))\n",
    "    \n",
    "    else: \n",
    "        print(\"Access denied, Username or PW were wrong\")"
   ]
  },
  {
   "cell_type": "markdown",
   "metadata": {},
   "source": [
    "# Part C:"
   ]
  },
  {
   "cell_type": "markdown",
   "metadata": {},
   "source": [
    "# Building the day planner function"
   ]
  },
  {
   "cell_type": "code",
   "execution_count": 41,
   "metadata": {},
   "outputs": [],
   "source": [
    "def day_planner(time_h_now):\n",
    "    daily_task = {10: 'Programming Lecture, Room A',\n",
    "                  12: 'Computer Vision Lecture, Room C',\n",
    "                  13: 'Lunch @Cafeteria!',\n",
    "                  15: 'Group Project Meeting, Room E'}\n",
    "    \n",
    "    for task_time in daily_task:\n",
    "        if time_h_now <= task_time:\n",
    "            print(\"You should attend: \", daily_task[task_time])\n",
    "            break\n",
    "    "
   ]
  },
  {
   "cell_type": "markdown",
   "metadata": {},
   "source": [
    "# Integrate the day_planner function into the Matching"
   ]
  },
  {
   "cell_type": "code",
   "execution_count": 79,
   "metadata": {},
   "outputs": [],
   "source": [
    "def matching(input_username, input_password):\n",
    "    if username == input_username and  password == input_password:\n",
    "        print(\"Access granted\")\n",
    "        \n",
    "        time_h_now = float(input(\"What is the time? Please insert from [8:00 to 15:00]\"))\n",
    "        day_planner(time_h_now)\n",
    "    \n",
    "    else: \n",
    "        print(\"Access denied, Username or PW were wrong\")"
   ]
  },
  {
   "cell_type": "markdown",
   "metadata": {},
   "source": [
    "# Part D:"
   ]
  },
  {
   "cell_type": "markdown",
   "metadata": {},
   "source": [
    "# add stored lecture notes to day planner function"
   ]
  },
  {
   "cell_type": "code",
   "execution_count": 87,
   "metadata": {},
   "outputs": [
    {
     "name": "stdout",
     "output_type": "stream",
     "text": [
      "\n",
      "Lecture Notes\n",
      "Date: 2016/10/25\n",
      "Professor: Mitch Robert\n",
      "Lecture 1: Programming Basics\n",
      "\n",
      "Coding Exercise #1\n",
      "kmh = int(input(\"Enter speed in km/h: \"))\n",
      "mph =  0.6214 * kmh\n",
      "print(\"Speed in Km per hour =\", kmh, \"KM/H\")\n",
      "print(\"Speed in Miles per hour =\", mph, \"MPH\")\n"
     ]
    }
   ],
   "source": [
    "myfile = open(\"Lecture_Notes.txt\")\n",
    "print(myfile.read())"
   ]
  },
  {
   "cell_type": "code",
   "execution_count": 90,
   "metadata": {},
   "outputs": [],
   "source": [
    "def day_planner(time_h_now):\n",
    "    daily_task = {10: 'Programming Lecture, Room A',\n",
    "                  12: 'Computer Vision Lecture, Room C',\n",
    "                  13: 'Lunch @Cafeteria!',\n",
    "                  15: 'Group Project Meeting, Room E'}\n",
    "    \n",
    "    for task_time in daily_task:\n",
    "        if time_h_now <= task_time:\n",
    "            print(\"You should attend: \", daily_task[task_time])\n",
    "            break\n",
    "            \n",
    "    myfile = open(\"Lecture_Notes.txt\")\n",
    "    print(myfile.read())\n",
    "    "
   ]
  },
  {
   "cell_type": "markdown",
   "metadata": {},
   "source": [
    "# RUN:"
   ]
  },
  {
   "cell_type": "code",
   "execution_count": 91,
   "metadata": {},
   "outputs": [
    {
     "name": "stdout",
     "output_type": "stream",
     "text": [
      "Please tell me your username: RYAn\n",
      "Please tell me your password: ········\n",
      "Access granted\n",
      "What is the time? Please insert from [8:00 to 15:00]12\n",
      "You should attend:  Computer Vision Lecture, Room C\n",
      "\n",
      "Lecture Notes\n",
      "Date: 2016/10/25\n",
      "Professor: Mitch Robert\n",
      "Lecture 1: Programming Basics\n",
      "\n",
      "Coding Exercise #1\n",
      "kmh = int(input(\"Enter speed in km/h: \"))\n",
      "mph =  0.6214 * kmh\n",
      "print(\"Speed in Km per hour =\", kmh, \"KM/H\")\n",
      "print(\"Speed in Miles per hour =\", mph, \"MPH\")\n"
     ]
    }
   ],
   "source": [
    "asking()"
   ]
  },
  {
   "cell_type": "code",
   "execution_count": null,
   "metadata": {},
   "outputs": [],
   "source": []
  }
 ],
 "metadata": {
  "kernelspec": {
   "display_name": "Python 3",
   "language": "python",
   "name": "python3"
  },
  "language_info": {
   "codemirror_mode": {
    "name": "ipython",
    "version": 3
   },
   "file_extension": ".py",
   "mimetype": "text/x-python",
   "name": "python",
   "nbconvert_exporter": "python",
   "pygments_lexer": "ipython3",
   "version": "3.6.8"
  }
 },
 "nbformat": 4,
 "nbformat_minor": 2
}
